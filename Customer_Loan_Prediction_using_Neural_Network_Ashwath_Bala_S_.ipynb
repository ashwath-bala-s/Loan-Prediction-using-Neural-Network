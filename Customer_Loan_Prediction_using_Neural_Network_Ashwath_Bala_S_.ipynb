{
  "nbformat": 4,
  "nbformat_minor": 0,
  "metadata": {
    "kernelspec": {
      "name": "python3",
      "display_name": "Python 3"
    },
    "language_info": {
      "codemirror_mode": {
        "name": "ipython",
        "version": 3
      },
      "file_extension": ".py",
      "mimetype": "text/x-python",
      "name": "python",
      "nbconvert_exporter": "python",
      "pygments_lexer": "ipython3",
      "version": "3.6.5"
    },
    "colab": {
      "provenance": []
    },
    "accelerator": "GPU"
  },
  "cells": [
    {
      "cell_type": "markdown",
      "source": [
        "##Customer Loan Prediction using Deep Learning (Neural Network)"
      ],
      "metadata": {
        "id": "SbioN7G0QJE9"
      }
    },
    {
      "cell_type": "markdown",
      "source": [
        "##Done By: Ashwath Bala S"
      ],
      "metadata": {
        "id": "YS6h9aEeOug_"
      }
    },
    {
      "cell_type": "markdown",
      "source": [
        "Table of Contents:\n",
        "\n",
        "1.Problem Statement\n",
        "\n",
        "2.Data Dictionary\n",
        "\n",
        "3.Loading the dataset\n",
        "\n",
        "4.Creating training and validation set\n",
        "\n",
        "5.Defining the architecture of the model\n",
        "\n",
        "6.Compiling the model (defining loss function, optimizer)\n",
        "\n",
        "7.Training the model\n",
        "\n",
        "8.Evaluating model performance on training and validation set\n",
        "\n",
        "9.Visualizing the Model Performance"
      ],
      "metadata": {
        "id": "MWqgjPgbOwqI"
      }
    },
    {
      "cell_type": "markdown",
      "source": [
        "##1. Problem Statement\n",
        "\n",
        "\n",
        "##![Loan Approval.jpg](data:image/jpeg;base64,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)\n",
        "\n",
        "\n",
        "\n",
        "In the banking sector, accurate prediction of loan approval is crucial for both customers and financial institutions. By leveraging deep learning techniques, we aim to develop a predictive model that can determine the likelihood of a loan being approved based on various customer details."
      ],
      "metadata": {
        "id": "bIbpswRXOmlV"
      }
    },
    {
      "cell_type": "markdown",
      "source": [
        "\n",
        "\n",
        "\n",
        "\n",
        "To Predict whether the loan will be approved or not based on the customer details"
      ],
      "metadata": {
        "id": "gkAVrlqwOyQd"
      }
    },
    {
      "cell_type": "markdown",
      "source": [
        "##2.Data Dictionary\n",
        "\n",
        "Following are the column details, that our dataset has:\n",
        "\n",
        "Loan_ID - A unique identifier for each loan application.\n",
        "\n",
        "\n",
        "Gender - The gender of the applicant\n",
        "\n",
        "\n",
        "Married - Marital status of the applicant\n",
        "\n",
        "\n",
        "Dependents - The number of dependents the applicant has\n",
        "\n",
        "Education - The education level of the applicant\n",
        "\n",
        "Self_Employed - Whether the applicant is self-employed\n",
        "\n",
        "ApplicantIncome - The income of the applicant.\n",
        "\n",
        "CoapplicantIncome - The income of the co-applicant (if any).\n",
        "\n",
        "LoanAmount - The loan amount requested by the applicant.\n",
        "\n",
        "Loan_Amount_Term - The term of the loan in months.\n",
        "\n",
        "Credit_History - Credit history of the applicant\n",
        "\n",
        "Property_Area - The area type of the property\n",
        "\n",
        "Loan_Status - (Target) The status of the loan application\n"
      ],
      "metadata": {
        "id": "fIDf4TM3RN1B"
      }
    },
    {
      "cell_type": "markdown",
      "metadata": {
        "id": "56f3bnnIglKI"
      },
      "source": [
        "## 1. Loading the dataset"
      ]
    },
    {
      "cell_type": "code",
      "metadata": {
        "id": "as3tljzfglKN"
      },
      "source": [
        "# importing the required libraries\n",
        "import pandas as pd\n",
        "import numpy as np\n",
        "import sklearn\n",
        "from sklearn.model_selection import train_test_split\n",
        "from sklearn.metrics import accuracy_score\n",
        "import matplotlib.pyplot as plt\n",
        "%matplotlib inline"
      ],
      "execution_count": 46,
      "outputs": []
    },
    {
      "cell_type": "code",
      "metadata": {
        "id": "UXQcz5rtglKe"
      },
      "source": [
        "# loading the dataset\n",
        "data = pd.read_csv('loan_prediction_using_deep_learning.csv')"
      ],
      "execution_count": 47,
      "outputs": []
    },
    {
      "cell_type": "code",
      "metadata": {
        "scrolled": false,
        "id": "ntuq8jfzglKp",
        "colab": {
          "base_uri": "https://localhost:8080/",
          "height": 226
        },
        "outputId": "e9492c7f-34fc-403a-a3e9-042b1c5f5cc0"
      },
      "source": [
        "# looking at the first five rows of the dataset\n",
        "data.head()"
      ],
      "execution_count": 48,
      "outputs": [
        {
          "output_type": "execute_result",
          "data": {
            "text/plain": [
              "    Loan_ID  Gender  Married  Dependents  Education  Self_Employed  \\\n",
              "0  LP001002     0.0      0.0    0.000000        1.0            0.0   \n",
              "1  LP001003     0.0      1.0    0.333333        1.0            0.0   \n",
              "2  LP001005     0.0      1.0    0.000000        1.0            1.0   \n",
              "3  LP001006     0.0      1.0    0.000000        0.0            0.0   \n",
              "4  LP001008     0.0      0.0    0.000000        1.0            0.0   \n",
              "\n",
              "   ApplicantIncome  CoapplicantIncome  LoanAmount  Loan_Amount_Term  \\\n",
              "0         0.070489           0.000000    0.198860           0.74359   \n",
              "1         0.054830           0.036192    0.172214           0.74359   \n",
              "2         0.035250           0.000000    0.082489           0.74359   \n",
              "3         0.030093           0.056592    0.160637           0.74359   \n",
              "4         0.072356           0.000000    0.191027           0.74359   \n",
              "\n",
              "   Credit_History  Property_Area  Loan_Status  \n",
              "0             1.0            1.0          1.0  \n",
              "1             1.0            0.0          0.0  \n",
              "2             1.0            1.0          1.0  \n",
              "3             1.0            1.0          1.0  \n",
              "4             1.0            1.0          1.0  "
            ],
            "text/html": [
              "\n",
              "  <div id=\"df-b7c98b98-7841-4855-a5ae-be222b28551a\" class=\"colab-df-container\">\n",
              "    <div>\n",
              "<style scoped>\n",
              "    .dataframe tbody tr th:only-of-type {\n",
              "        vertical-align: middle;\n",
              "    }\n",
              "\n",
              "    .dataframe tbody tr th {\n",
              "        vertical-align: top;\n",
              "    }\n",
              "\n",
              "    .dataframe thead th {\n",
              "        text-align: right;\n",
              "    }\n",
              "</style>\n",
              "<table border=\"1\" class=\"dataframe\">\n",
              "  <thead>\n",
              "    <tr style=\"text-align: right;\">\n",
              "      <th></th>\n",
              "      <th>Loan_ID</th>\n",
              "      <th>Gender</th>\n",
              "      <th>Married</th>\n",
              "      <th>Dependents</th>\n",
              "      <th>Education</th>\n",
              "      <th>Self_Employed</th>\n",
              "      <th>ApplicantIncome</th>\n",
              "      <th>CoapplicantIncome</th>\n",
              "      <th>LoanAmount</th>\n",
              "      <th>Loan_Amount_Term</th>\n",
              "      <th>Credit_History</th>\n",
              "      <th>Property_Area</th>\n",
              "      <th>Loan_Status</th>\n",
              "    </tr>\n",
              "  </thead>\n",
              "  <tbody>\n",
              "    <tr>\n",
              "      <th>0</th>\n",
              "      <td>LP001002</td>\n",
              "      <td>0.0</td>\n",
              "      <td>0.0</td>\n",
              "      <td>0.000000</td>\n",
              "      <td>1.0</td>\n",
              "      <td>0.0</td>\n",
              "      <td>0.070489</td>\n",
              "      <td>0.000000</td>\n",
              "      <td>0.198860</td>\n",
              "      <td>0.74359</td>\n",
              "      <td>1.0</td>\n",
              "      <td>1.0</td>\n",
              "      <td>1.0</td>\n",
              "    </tr>\n",
              "    <tr>\n",
              "      <th>1</th>\n",
              "      <td>LP001003</td>\n",
              "      <td>0.0</td>\n",
              "      <td>1.0</td>\n",
              "      <td>0.333333</td>\n",
              "      <td>1.0</td>\n",
              "      <td>0.0</td>\n",
              "      <td>0.054830</td>\n",
              "      <td>0.036192</td>\n",
              "      <td>0.172214</td>\n",
              "      <td>0.74359</td>\n",
              "      <td>1.0</td>\n",
              "      <td>0.0</td>\n",
              "      <td>0.0</td>\n",
              "    </tr>\n",
              "    <tr>\n",
              "      <th>2</th>\n",
              "      <td>LP001005</td>\n",
              "      <td>0.0</td>\n",
              "      <td>1.0</td>\n",
              "      <td>0.000000</td>\n",
              "      <td>1.0</td>\n",
              "      <td>1.0</td>\n",
              "      <td>0.035250</td>\n",
              "      <td>0.000000</td>\n",
              "      <td>0.082489</td>\n",
              "      <td>0.74359</td>\n",
              "      <td>1.0</td>\n",
              "      <td>1.0</td>\n",
              "      <td>1.0</td>\n",
              "    </tr>\n",
              "    <tr>\n",
              "      <th>3</th>\n",
              "      <td>LP001006</td>\n",
              "      <td>0.0</td>\n",
              "      <td>1.0</td>\n",
              "      <td>0.000000</td>\n",
              "      <td>0.0</td>\n",
              "      <td>0.0</td>\n",
              "      <td>0.030093</td>\n",
              "      <td>0.056592</td>\n",
              "      <td>0.160637</td>\n",
              "      <td>0.74359</td>\n",
              "      <td>1.0</td>\n",
              "      <td>1.0</td>\n",
              "      <td>1.0</td>\n",
              "    </tr>\n",
              "    <tr>\n",
              "      <th>4</th>\n",
              "      <td>LP001008</td>\n",
              "      <td>0.0</td>\n",
              "      <td>0.0</td>\n",
              "      <td>0.000000</td>\n",
              "      <td>1.0</td>\n",
              "      <td>0.0</td>\n",
              "      <td>0.072356</td>\n",
              "      <td>0.000000</td>\n",
              "      <td>0.191027</td>\n",
              "      <td>0.74359</td>\n",
              "      <td>1.0</td>\n",
              "      <td>1.0</td>\n",
              "      <td>1.0</td>\n",
              "    </tr>\n",
              "  </tbody>\n",
              "</table>\n",
              "</div>\n",
              "    <div class=\"colab-df-buttons\">\n",
              "\n",
              "  <div class=\"colab-df-container\">\n",
              "    <button class=\"colab-df-convert\" onclick=\"convertToInteractive('df-b7c98b98-7841-4855-a5ae-be222b28551a')\"\n",
              "            title=\"Convert this dataframe to an interactive table.\"\n",
              "            style=\"display:none;\">\n",
              "\n",
              "  <svg xmlns=\"http://www.w3.org/2000/svg\" height=\"24px\" viewBox=\"0 -960 960 960\">\n",
              "    <path d=\"M120-120v-720h720v720H120Zm60-500h600v-160H180v160Zm220 220h160v-160H400v160Zm0 220h160v-160H400v160ZM180-400h160v-160H180v160Zm440 0h160v-160H620v160ZM180-180h160v-160H180v160Zm440 0h160v-160H620v160Z\"/>\n",
              "  </svg>\n",
              "    </button>\n",
              "\n",
              "  <style>\n",
              "    .colab-df-container {\n",
              "      display:flex;\n",
              "      gap: 12px;\n",
              "    }\n",
              "\n",
              "    .colab-df-convert {\n",
              "      background-color: #E8F0FE;\n",
              "      border: none;\n",
              "      border-radius: 50%;\n",
              "      cursor: pointer;\n",
              "      display: none;\n",
              "      fill: #1967D2;\n",
              "      height: 32px;\n",
              "      padding: 0 0 0 0;\n",
              "      width: 32px;\n",
              "    }\n",
              "\n",
              "    .colab-df-convert:hover {\n",
              "      background-color: #E2EBFA;\n",
              "      box-shadow: 0px 1px 2px rgba(60, 64, 67, 0.3), 0px 1px 3px 1px rgba(60, 64, 67, 0.15);\n",
              "      fill: #174EA6;\n",
              "    }\n",
              "\n",
              "    .colab-df-buttons div {\n",
              "      margin-bottom: 4px;\n",
              "    }\n",
              "\n",
              "    [theme=dark] .colab-df-convert {\n",
              "      background-color: #3B4455;\n",
              "      fill: #D2E3FC;\n",
              "    }\n",
              "\n",
              "    [theme=dark] .colab-df-convert:hover {\n",
              "      background-color: #434B5C;\n",
              "      box-shadow: 0px 1px 3px 1px rgba(0, 0, 0, 0.15);\n",
              "      filter: drop-shadow(0px 1px 2px rgba(0, 0, 0, 0.3));\n",
              "      fill: #FFFFFF;\n",
              "    }\n",
              "  </style>\n",
              "\n",
              "    <script>\n",
              "      const buttonEl =\n",
              "        document.querySelector('#df-b7c98b98-7841-4855-a5ae-be222b28551a button.colab-df-convert');\n",
              "      buttonEl.style.display =\n",
              "        google.colab.kernel.accessAllowed ? 'block' : 'none';\n",
              "\n",
              "      async function convertToInteractive(key) {\n",
              "        const element = document.querySelector('#df-b7c98b98-7841-4855-a5ae-be222b28551a');\n",
              "        const dataTable =\n",
              "          await google.colab.kernel.invokeFunction('convertToInteractive',\n",
              "                                                    [key], {});\n",
              "        if (!dataTable) return;\n",
              "\n",
              "        const docLinkHtml = 'Like what you see? Visit the ' +\n",
              "          '<a target=\"_blank\" href=https://colab.research.google.com/notebooks/data_table.ipynb>data table notebook</a>'\n",
              "          + ' to learn more about interactive tables.';\n",
              "        element.innerHTML = '';\n",
              "        dataTable['output_type'] = 'display_data';\n",
              "        await google.colab.output.renderOutput(dataTable, element);\n",
              "        const docLink = document.createElement('div');\n",
              "        docLink.innerHTML = docLinkHtml;\n",
              "        element.appendChild(docLink);\n",
              "      }\n",
              "    </script>\n",
              "  </div>\n",
              "\n",
              "\n",
              "<div id=\"df-0f805414-719d-4ae8-a7bd-39ce04b0018e\">\n",
              "  <button class=\"colab-df-quickchart\" onclick=\"quickchart('df-0f805414-719d-4ae8-a7bd-39ce04b0018e')\"\n",
              "            title=\"Suggest charts\"\n",
              "            style=\"display:none;\">\n",
              "\n",
              "<svg xmlns=\"http://www.w3.org/2000/svg\" height=\"24px\"viewBox=\"0 0 24 24\"\n",
              "     width=\"24px\">\n",
              "    <g>\n",
              "        <path d=\"M19 3H5c-1.1 0-2 .9-2 2v14c0 1.1.9 2 2 2h14c1.1 0 2-.9 2-2V5c0-1.1-.9-2-2-2zM9 17H7v-7h2v7zm4 0h-2V7h2v10zm4 0h-2v-4h2v4z\"/>\n",
              "    </g>\n",
              "</svg>\n",
              "  </button>\n",
              "\n",
              "<style>\n",
              "  .colab-df-quickchart {\n",
              "      --bg-color: #E8F0FE;\n",
              "      --fill-color: #1967D2;\n",
              "      --hover-bg-color: #E2EBFA;\n",
              "      --hover-fill-color: #174EA6;\n",
              "      --disabled-fill-color: #AAA;\n",
              "      --disabled-bg-color: #DDD;\n",
              "  }\n",
              "\n",
              "  [theme=dark] .colab-df-quickchart {\n",
              "      --bg-color: #3B4455;\n",
              "      --fill-color: #D2E3FC;\n",
              "      --hover-bg-color: #434B5C;\n",
              "      --hover-fill-color: #FFFFFF;\n",
              "      --disabled-bg-color: #3B4455;\n",
              "      --disabled-fill-color: #666;\n",
              "  }\n",
              "\n",
              "  .colab-df-quickchart {\n",
              "    background-color: var(--bg-color);\n",
              "    border: none;\n",
              "    border-radius: 50%;\n",
              "    cursor: pointer;\n",
              "    display: none;\n",
              "    fill: var(--fill-color);\n",
              "    height: 32px;\n",
              "    padding: 0;\n",
              "    width: 32px;\n",
              "  }\n",
              "\n",
              "  .colab-df-quickchart:hover {\n",
              "    background-color: var(--hover-bg-color);\n",
              "    box-shadow: 0 1px 2px rgba(60, 64, 67, 0.3), 0 1px 3px 1px rgba(60, 64, 67, 0.15);\n",
              "    fill: var(--button-hover-fill-color);\n",
              "  }\n",
              "\n",
              "  .colab-df-quickchart-complete:disabled,\n",
              "  .colab-df-quickchart-complete:disabled:hover {\n",
              "    background-color: var(--disabled-bg-color);\n",
              "    fill: var(--disabled-fill-color);\n",
              "    box-shadow: none;\n",
              "  }\n",
              "\n",
              "  .colab-df-spinner {\n",
              "    border: 2px solid var(--fill-color);\n",
              "    border-color: transparent;\n",
              "    border-bottom-color: var(--fill-color);\n",
              "    animation:\n",
              "      spin 1s steps(1) infinite;\n",
              "  }\n",
              "\n",
              "  @keyframes spin {\n",
              "    0% {\n",
              "      border-color: transparent;\n",
              "      border-bottom-color: var(--fill-color);\n",
              "      border-left-color: var(--fill-color);\n",
              "    }\n",
              "    20% {\n",
              "      border-color: transparent;\n",
              "      border-left-color: var(--fill-color);\n",
              "      border-top-color: var(--fill-color);\n",
              "    }\n",
              "    30% {\n",
              "      border-color: transparent;\n",
              "      border-left-color: var(--fill-color);\n",
              "      border-top-color: var(--fill-color);\n",
              "      border-right-color: var(--fill-color);\n",
              "    }\n",
              "    40% {\n",
              "      border-color: transparent;\n",
              "      border-right-color: var(--fill-color);\n",
              "      border-top-color: var(--fill-color);\n",
              "    }\n",
              "    60% {\n",
              "      border-color: transparent;\n",
              "      border-right-color: var(--fill-color);\n",
              "    }\n",
              "    80% {\n",
              "      border-color: transparent;\n",
              "      border-right-color: var(--fill-color);\n",
              "      border-bottom-color: var(--fill-color);\n",
              "    }\n",
              "    90% {\n",
              "      border-color: transparent;\n",
              "      border-bottom-color: var(--fill-color);\n",
              "    }\n",
              "  }\n",
              "</style>\n",
              "\n",
              "  <script>\n",
              "    async function quickchart(key) {\n",
              "      const quickchartButtonEl =\n",
              "        document.querySelector('#' + key + ' button');\n",
              "      quickchartButtonEl.disabled = true;  // To prevent multiple clicks.\n",
              "      quickchartButtonEl.classList.add('colab-df-spinner');\n",
              "      try {\n",
              "        const charts = await google.colab.kernel.invokeFunction(\n",
              "            'suggestCharts', [key], {});\n",
              "      } catch (error) {\n",
              "        console.error('Error during call to suggestCharts:', error);\n",
              "      }\n",
              "      quickchartButtonEl.classList.remove('colab-df-spinner');\n",
              "      quickchartButtonEl.classList.add('colab-df-quickchart-complete');\n",
              "    }\n",
              "    (() => {\n",
              "      let quickchartButtonEl =\n",
              "        document.querySelector('#df-0f805414-719d-4ae8-a7bd-39ce04b0018e button');\n",
              "      quickchartButtonEl.style.display =\n",
              "        google.colab.kernel.accessAllowed ? 'block' : 'none';\n",
              "    })();\n",
              "  </script>\n",
              "</div>\n",
              "\n",
              "    </div>\n",
              "  </div>\n"
            ],
            "application/vnd.google.colaboratory.intrinsic+json": {
              "type": "dataframe",
              "variable_name": "data",
              "summary": "{\n  \"name\": \"data\",\n  \"rows\": 614,\n  \"fields\": [\n    {\n      \"column\": \"Loan_ID\",\n      \"properties\": {\n        \"dtype\": \"string\",\n        \"num_unique_values\": 614,\n        \"samples\": [\n          \"LP002139\",\n          \"LP002223\",\n          \"LP001570\"\n        ],\n        \"semantic_type\": \"\",\n        \"description\": \"\"\n      }\n    },\n    {\n      \"column\": \"Gender\",\n      \"properties\": {\n        \"dtype\": \"number\",\n        \"std\": 0.38649728461761046,\n        \"min\": 0.0,\n        \"max\": 1.0,\n        \"num_unique_values\": 2,\n        \"samples\": [\n          1.0,\n          0.0\n        ],\n        \"semantic_type\": \"\",\n        \"description\": \"\"\n      }\n    },\n    {\n      \"column\": \"Married\",\n      \"properties\": {\n        \"dtype\": \"number\",\n        \"std\": 0.47637346810166864,\n        \"min\": 0.0,\n        \"max\": 1.0,\n        \"num_unique_values\": 2,\n        \"samples\": [\n          1.0,\n          0.0\n        ],\n        \"semantic_type\": \"\",\n        \"description\": \"\"\n      }\n    },\n    {\n      \"column\": \"Dependents\",\n      \"properties\": {\n        \"dtype\": \"number\",\n        \"std\": 0.33654113081155484,\n        \"min\": 0.0,\n        \"max\": 1.0,\n        \"num_unique_values\": 4,\n        \"samples\": [\n          0.3333333333333333,\n          1.0\n        ],\n        \"semantic_type\": \"\",\n        \"description\": \"\"\n      }\n    },\n    {\n      \"column\": \"Education\",\n      \"properties\": {\n        \"dtype\": \"number\",\n        \"std\": 0.4133886943339805,\n        \"min\": 0.0,\n        \"max\": 1.0,\n        \"num_unique_values\": 2,\n        \"samples\": [\n          0.0,\n          1.0\n        ],\n        \"semantic_type\": \"\",\n        \"description\": \"\"\n      }\n    },\n    {\n      \"column\": \"Self_Employed\",\n      \"properties\": {\n        \"dtype\": \"number\",\n        \"std\": 0.3404460655491334,\n        \"min\": 0.0,\n        \"max\": 1.0,\n        \"num_unique_values\": 2,\n        \"samples\": [\n          1.0,\n          0.0\n        ],\n        \"semantic_type\": \"\",\n        \"description\": \"\"\n      }\n    },\n    {\n      \"column\": \"ApplicantIncome\",\n      \"properties\": {\n        \"dtype\": \"number\",\n        \"std\": 0.07556019385760271,\n        \"min\": 0.0,\n        \"max\": 1.0,\n        \"num_unique_values\": 505,\n        \"samples\": [\n          0.1012121212121212,\n          0.0518491032776747\n        ],\n        \"semantic_type\": \"\",\n        \"description\": \"\"\n      }\n    },\n    {\n      \"column\": \"CoapplicantIncome\",\n      \"properties\": {\n        \"dtype\": \"number\",\n        \"std\": 0.0702293990261883,\n        \"min\": 0.0,\n        \"max\": 1.0,\n        \"num_unique_values\": 287,\n        \"samples\": [\n          0.0441596467228262,\n          0.0490076079391364\n        ],\n        \"semantic_type\": \"\",\n        \"description\": \"\"\n      }\n    },\n    {\n      \"column\": \"LoanAmount\",\n      \"properties\": {\n        \"dtype\": \"number\",\n        \"std\": 0.12161717465006727,\n        \"min\": 0.0,\n        \"max\": 1.0,\n        \"num_unique_values\": 204,\n        \"samples\": [\n          0.1678726483357453,\n          0.492040520984081\n        ],\n        \"semantic_type\": \"\",\n        \"description\": \"\"\n      }\n    },\n    {\n      \"column\": \"Loan_Amount_Term\",\n      \"properties\": {\n        \"dtype\": \"number\",\n        \"std\": 0.13766801082836128,\n        \"min\": 0.0,\n        \"max\": 1.0,\n        \"num_unique_values\": 10,\n        \"samples\": [\n          0.1538461538461538,\n          0.2307692307692307\n        ],\n        \"semantic_type\": \"\",\n        \"description\": \"\"\n      }\n    },\n    {\n      \"column\": \"Credit_History\",\n      \"properties\": {\n        \"dtype\": \"number\",\n        \"std\": 0.3523386063582998,\n        \"min\": 0.0,\n        \"max\": 1.0,\n        \"num_unique_values\": 2,\n        \"samples\": [\n          0.0,\n          1.0\n        ],\n        \"semantic_type\": \"\",\n        \"description\": \"\"\n      }\n    },\n    {\n      \"column\": \"Property_Area\",\n      \"properties\": {\n        \"dtype\": \"number\",\n        \"std\": 0.39374101739259926,\n        \"min\": 0.0,\n        \"max\": 1.0,\n        \"num_unique_values\": 3,\n        \"samples\": [\n          1.0,\n          0.0\n        ],\n        \"semantic_type\": \"\",\n        \"description\": \"\"\n      }\n    },\n    {\n      \"column\": \"Loan_Status\",\n      \"properties\": {\n        \"dtype\": \"number\",\n        \"std\": 0.46397268871800085,\n        \"min\": 0.0,\n        \"max\": 1.0,\n        \"num_unique_values\": 2,\n        \"samples\": [\n          0.0,\n          1.0\n        ],\n        \"semantic_type\": \"\",\n        \"description\": \"\"\n      }\n    }\n  ]\n}"
            }
          },
          "metadata": {},
          "execution_count": 48
        }
      ]
    },
    {
      "cell_type": "code",
      "metadata": {
        "id": "2iqbEhkaglK0",
        "colab": {
          "base_uri": "https://localhost:8080/"
        },
        "outputId": "0f48fb46-db89-4ff1-90e7-19a47ca02ad9"
      },
      "source": [
        "# checking missing values\n",
        "data.isnull().sum()"
      ],
      "execution_count": 49,
      "outputs": [
        {
          "output_type": "execute_result",
          "data": {
            "text/plain": [
              "Loan_ID              0\n",
              "Gender               0\n",
              "Married              0\n",
              "Dependents           0\n",
              "Education            0\n",
              "Self_Employed        0\n",
              "ApplicantIncome      0\n",
              "CoapplicantIncome    0\n",
              "LoanAmount           0\n",
              "Loan_Amount_Term     0\n",
              "Credit_History       0\n",
              "Property_Area        0\n",
              "Loan_Status          0\n",
              "dtype: int64"
            ]
          },
          "metadata": {},
          "execution_count": 49
        }
      ]
    },
    {
      "cell_type": "code",
      "metadata": {
        "id": "QOnBYzGnglK-",
        "colab": {
          "base_uri": "https://localhost:8080/"
        },
        "outputId": "78cbc624-83ce-4c21-970b-f40522230194"
      },
      "source": [
        "# checking the data type\n",
        "data.dtypes"
      ],
      "execution_count": 50,
      "outputs": [
        {
          "output_type": "execute_result",
          "data": {
            "text/plain": [
              "Loan_ID               object\n",
              "Gender               float64\n",
              "Married              float64\n",
              "Dependents           float64\n",
              "Education            float64\n",
              "Self_Employed        float64\n",
              "ApplicantIncome      float64\n",
              "CoapplicantIncome    float64\n",
              "LoanAmount           float64\n",
              "Loan_Amount_Term     float64\n",
              "Credit_History       float64\n",
              "Property_Area        float64\n",
              "Loan_Status          float64\n",
              "dtype: object"
            ]
          },
          "metadata": {},
          "execution_count": 50
        }
      ]
    },
    {
      "cell_type": "code",
      "metadata": {
        "id": "TYuwXXuNglLI"
      },
      "source": [
        "# removing the loan_ID since these are just the unique values\n",
        "data = data.drop('Loan_ID', axis=1)"
      ],
      "execution_count": 51,
      "outputs": []
    },
    {
      "cell_type": "code",
      "metadata": {
        "id": "r7XkDkLqglLQ",
        "colab": {
          "base_uri": "https://localhost:8080/"
        },
        "outputId": "835492f1-2761-4bb9-e237-36041d4a0626"
      },
      "source": [
        "# looking at the shape of the data\n",
        "data.shape"
      ],
      "execution_count": 52,
      "outputs": [
        {
          "output_type": "execute_result",
          "data": {
            "text/plain": [
              "(614, 12)"
            ]
          },
          "metadata": {},
          "execution_count": 52
        }
      ]
    },
    {
      "cell_type": "code",
      "metadata": {
        "id": "wy5U75eiglLZ"
      },
      "source": [
        "# separating the independent and dependent variables\n",
        "\n",
        "# storing all the independent variables as X\n",
        "X = data.drop('Loan_Status', axis=1)\n",
        "\n",
        "# storing the dependent variable as y\n",
        "y = data['Loan_Status']"
      ],
      "execution_count": 53,
      "outputs": []
    },
    {
      "cell_type": "code",
      "metadata": {
        "scrolled": true,
        "id": "73Z_cXPVglLi",
        "colab": {
          "base_uri": "https://localhost:8080/"
        },
        "outputId": "1f6663e3-8c46-4581-a696-875252c92563"
      },
      "source": [
        "# shape of independent and dependent variables\n",
        "X.shape, y.shape"
      ],
      "execution_count": 54,
      "outputs": [
        {
          "output_type": "execute_result",
          "data": {
            "text/plain": [
              "((614, 11), (614,))"
            ]
          },
          "metadata": {},
          "execution_count": 54
        }
      ]
    },
    {
      "cell_type": "markdown",
      "metadata": {
        "id": "2tIAIoEZglLr"
      },
      "source": [
        "## 4. Creating training and validation set"
      ]
    },
    {
      "cell_type": "code",
      "metadata": {
        "id": "4jvMxwYZglLu"
      },
      "source": [
        "# Creating training and validation set\n",
        "\n",
        "# stratify will make sure that the distribution of classes in train and validation set it similar\n",
        "# random state to regenerate the same train and validation set\n",
        "# test size 0.2 will keep 20% data in validation and remaining 80% in train set\n",
        "\n",
        "X_train,X_test,y_train,y_test = train_test_split(X,y,stratify=data['Loan_Status'],random_state=10,test_size=0.2)"
      ],
      "execution_count": 55,
      "outputs": []
    },
    {
      "cell_type": "code",
      "metadata": {
        "id": "3HG0SIb2glL3",
        "colab": {
          "base_uri": "https://localhost:8080/"
        },
        "outputId": "0f2fe92e-82e4-4fe1-badc-b7f60acdadc6"
      },
      "source": [
        "# shape of training and validation set\n",
        "(X_train.shape, y_train.shape), (X_test.shape, y_test.shape)"
      ],
      "execution_count": 56,
      "outputs": [
        {
          "output_type": "execute_result",
          "data": {
            "text/plain": [
              "(((491, 11), (491,)), ((123, 11), (123,)))"
            ]
          },
          "metadata": {},
          "execution_count": 56
        }
      ]
    },
    {
      "cell_type": "markdown",
      "metadata": {
        "id": "e9PNy3T1glL_"
      },
      "source": [
        "## 5. Defining the architecture of the model"
      ]
    },
    {
      "cell_type": "markdown",
      "metadata": {
        "id": "LbHAzzxZglMR"
      },
      "source": [
        "### a. Create a model\n",
        "\n",
        "<img src='https://drive.google.com/uc?id=1iZNZ3kwSHRNf-Irn3DZmMuBb6K-Lro7w'>"
      ]
    },
    {
      "cell_type": "code",
      "metadata": {
        "id": "O-Pl7OO8glMT"
      },
      "source": [
        "# importing the sequential model\n",
        "from keras.models import Sequential"
      ],
      "execution_count": 59,
      "outputs": []
    },
    {
      "cell_type": "markdown",
      "metadata": {
        "id": "q6SQ3N1NglMZ"
      },
      "source": [
        "### b. Defining different layers\n",
        "\n",
        "<img src='https://drive.google.com/uc?id=16X6De2hua1XJBe3dfmUUeGTgP6PbXEpc'>"
      ]
    },
    {
      "cell_type": "code",
      "metadata": {
        "scrolled": true,
        "id": "NDU-YCD0glMb"
      },
      "source": [
        "# importing different layers from keras\n",
        "from keras.layers import InputLayer, Dense"
      ],
      "execution_count": 60,
      "outputs": []
    },
    {
      "cell_type": "markdown",
      "metadata": {
        "id": "c1I4EF-9glMj"
      },
      "source": [
        "<img src='https://drive.google.com/uc?id=1tsy4B6G0UN4-J4L4roOdoWQiZMUdgw2a'>"
      ]
    },
    {
      "cell_type": "code",
      "metadata": {
        "id": "xtOwk66BglMl",
        "colab": {
          "base_uri": "https://localhost:8080/"
        },
        "outputId": "7aeb461d-631b-4b05-ee80-d0388b71719c"
      },
      "source": [
        "# number of input neurons\n",
        "X_train.shape"
      ],
      "execution_count": 61,
      "outputs": [
        {
          "output_type": "execute_result",
          "data": {
            "text/plain": [
              "(491, 11)"
            ]
          },
          "metadata": {},
          "execution_count": 61
        }
      ]
    },
    {
      "cell_type": "code",
      "metadata": {
        "scrolled": true,
        "id": "dA2TqMbsglMq",
        "colab": {
          "base_uri": "https://localhost:8080/"
        },
        "outputId": "b1afc554-a62a-41f8-d705-8d31f274e371"
      },
      "source": [
        "# number of features in the data\n",
        "X_train.shape[1]"
      ],
      "execution_count": 62,
      "outputs": [
        {
          "output_type": "execute_result",
          "data": {
            "text/plain": [
              "11"
            ]
          },
          "metadata": {},
          "execution_count": 62
        }
      ]
    },
    {
      "cell_type": "code",
      "metadata": {
        "id": "ajgIDiLSglMx"
      },
      "source": [
        "# defining input neurons\n",
        "input_neurons = X_train.shape[1]"
      ],
      "execution_count": 63,
      "outputs": []
    },
    {
      "cell_type": "markdown",
      "metadata": {
        "id": "urOAaBuNglM4"
      },
      "source": [
        "<img src='https://drive.google.com/uc?id=1xL_hM9rGItZjsZ8Lofwzw_9fZUi4bgJo'>"
      ]
    },
    {
      "cell_type": "code",
      "metadata": {
        "id": "fu76LxuVglM6"
      },
      "source": [
        "# number of output neurons\n",
        "\n",
        "# since loan prediction is a binary classification problem, we will have single neuron in the output layer"
      ],
      "execution_count": 64,
      "outputs": []
    },
    {
      "cell_type": "code",
      "metadata": {
        "id": "taMhxkl4glNB"
      },
      "source": [
        "# define number of output neurons\n",
        "output_neurons = 1"
      ],
      "execution_count": 65,
      "outputs": []
    },
    {
      "cell_type": "code",
      "metadata": {
        "id": "cHsm2c7kglNF"
      },
      "source": [
        "# number of hidden layers and hidden neurons\n",
        "\n",
        "# It is a hyperparameter and we can pick the hidden layers and hidden neurons on our own"
      ],
      "execution_count": 66,
      "outputs": []
    },
    {
      "cell_type": "code",
      "metadata": {
        "id": "sMqdeXysqztM"
      },
      "source": [
        "# define hidden layers and neuron in each layer\n",
        "number_of_hidden_layers = 2\n",
        "neuron_hidden_layer_1 = 10\n",
        "neuron_hidden_layer_2 = 5"
      ],
      "execution_count": 67,
      "outputs": []
    },
    {
      "cell_type": "code",
      "metadata": {
        "id": "HKTCB3K1glNQ"
      },
      "source": [
        "# activation function of different layers\n",
        "\n",
        "# for now we have picked relu as an activation function for hidden layers, you can change it as well\n",
        "# since it is a binary classification problem, I have used sigmoid activation function in the final layer"
      ],
      "execution_count": 68,
      "outputs": []
    },
    {
      "cell_type": "code",
      "metadata": {
        "id": "lJeV8sQyq1rj"
      },
      "source": [
        "# defining the architecture of the model\n",
        "model = Sequential()\n",
        "model.add(InputLayer(input_shape=(input_neurons,)))\n",
        "model.add(Dense(units=neuron_hidden_layer_1, activation='relu'))\n",
        "model.add(Dense(units=neuron_hidden_layer_2, activation='relu'))\n",
        "model.add(Dense(units=output_neurons, activation='sigmoid'))"
      ],
      "execution_count": 69,
      "outputs": []
    },
    {
      "cell_type": "code",
      "metadata": {
        "id": "E9tXg_08q3n0",
        "outputId": "5592f9f3-c93f-4183-e66d-ae13d0578ea6",
        "colab": {
          "base_uri": "https://localhost:8080/"
        }
      },
      "source": [
        "# summary of the model\n",
        "model.summary()"
      ],
      "execution_count": 70,
      "outputs": [
        {
          "output_type": "stream",
          "name": "stdout",
          "text": [
            "Model: \"sequential_1\"\n",
            "_________________________________________________________________\n",
            " Layer (type)                Output Shape              Param #   \n",
            "=================================================================\n",
            " dense_3 (Dense)             (None, 10)                120       \n",
            "                                                                 \n",
            " dense_4 (Dense)             (None, 5)                 55        \n",
            "                                                                 \n",
            " dense_5 (Dense)             (None, 1)                 6         \n",
            "                                                                 \n",
            "=================================================================\n",
            "Total params: 181 (724.00 Byte)\n",
            "Trainable params: 181 (724.00 Byte)\n",
            "Non-trainable params: 0 (0.00 Byte)\n",
            "_________________________________________________________________\n"
          ]
        }
      ]
    },
    {
      "cell_type": "code",
      "metadata": {
        "id": "PnsVNEbZglNf",
        "outputId": "bd8c947b-2aa4-4431-bb58-76c06106955e",
        "colab": {
          "base_uri": "https://localhost:8080/"
        }
      },
      "source": [
        "# number of parameters between input and first hidden layer\n",
        "\n",
        "input_neurons*neuron_hidden_layer_1"
      ],
      "execution_count": 71,
      "outputs": [
        {
          "output_type": "execute_result",
          "data": {
            "text/plain": [
              "110"
            ]
          },
          "metadata": {},
          "execution_count": 71
        }
      ]
    },
    {
      "cell_type": "code",
      "metadata": {
        "scrolled": true,
        "id": "npisFmvIglNl",
        "outputId": "8c8cbb49-dcda-49f5-eea8-ca92258af5d7",
        "colab": {
          "base_uri": "https://localhost:8080/"
        }
      },
      "source": [
        "# number of parameters between input and first hidden layer\n",
        "\n",
        "# adding the bias for each neuron of first hidden layer\n",
        "\n",
        "input_neurons*neuron_hidden_layer_1 + 10"
      ],
      "execution_count": 72,
      "outputs": [
        {
          "output_type": "execute_result",
          "data": {
            "text/plain": [
              "120"
            ]
          },
          "metadata": {},
          "execution_count": 72
        }
      ]
    },
    {
      "cell_type": "code",
      "metadata": {
        "id": "j37Xpr-8glNq",
        "outputId": "c4a95c46-51bc-4df1-a160-e25147ac58b2",
        "colab": {
          "base_uri": "https://localhost:8080/"
        }
      },
      "source": [
        "# number of parameters between first and second hidden layer\n",
        "\n",
        "neuron_hidden_layer_1*neuron_hidden_layer_2 + 5"
      ],
      "execution_count": 73,
      "outputs": [
        {
          "output_type": "execute_result",
          "data": {
            "text/plain": [
              "55"
            ]
          },
          "metadata": {},
          "execution_count": 73
        }
      ]
    },
    {
      "cell_type": "code",
      "metadata": {
        "id": "UXrvaFnXglNu",
        "outputId": "3c610903-d913-4949-d9fd-8b0f2386809e",
        "colab": {
          "base_uri": "https://localhost:8080/"
        }
      },
      "source": [
        "# number of parameters between second hidden and output layer\n",
        "\n",
        "neuron_hidden_layer_2*output_neurons + 1"
      ],
      "execution_count": 74,
      "outputs": [
        {
          "output_type": "execute_result",
          "data": {
            "text/plain": [
              "6"
            ]
          },
          "metadata": {},
          "execution_count": 74
        }
      ]
    },
    {
      "cell_type": "markdown",
      "metadata": {
        "id": "xm1bbbE_glNz"
      },
      "source": [
        "## 6. Compiling the model (defining loss function, optimizer)"
      ]
    },
    {
      "cell_type": "code",
      "metadata": {
        "id": "P6hqkDWIglN0"
      },
      "source": [
        "# compiling the model\n",
        "\n",
        "# loss as binary_crossentropy, since we have binary classification problem\n",
        "# defining the optimizer as adam\n",
        "# Evaluation metric as accuracy\n",
        "\n",
        "model.compile(loss='binary_crossentropy',optimizer='Adam',metrics=['accuracy'])"
      ],
      "execution_count": 75,
      "outputs": []
    },
    {
      "cell_type": "markdown",
      "metadata": {
        "id": "T1oVMpRMglN5"
      },
      "source": [
        "## 7. Training the model"
      ]
    },
    {
      "cell_type": "code",
      "metadata": {
        "id": "pViJI3-TglN6",
        "outputId": "fb75e910-64cf-4cc0-beb1-c3acfe850c65",
        "colab": {
          "base_uri": "https://localhost:8080/"
        }
      },
      "source": [
        "# training the model\n",
        "\n",
        "# passing the independent and dependent features for training set for training the model\n",
        "\n",
        "# validation data will be evaluated at the end of each epoch\n",
        "\n",
        "# setting the epochs as 50\n",
        "\n",
        "# storing the trained model in model_history variable which will be used to visualize the training process\n",
        "\n",
        "model_history = model.fit(X_train, y_train, validation_data=(X_test, y_test), epochs=50)"
      ],
      "execution_count": 76,
      "outputs": [
        {
          "output_type": "stream",
          "name": "stdout",
          "text": [
            "Epoch 1/50\n",
            "16/16 [==============================] - 1s 21ms/step - loss: 0.6336 - accuracy: 0.6864 - val_loss: 0.6224 - val_accuracy: 0.6911\n",
            "Epoch 2/50\n",
            "16/16 [==============================] - 0s 7ms/step - loss: 0.6209 - accuracy: 0.6864 - val_loss: 0.6125 - val_accuracy: 0.6911\n",
            "Epoch 3/50\n",
            "16/16 [==============================] - 0s 8ms/step - loss: 0.6121 - accuracy: 0.6864 - val_loss: 0.6048 - val_accuracy: 0.6911\n",
            "Epoch 4/50\n",
            "16/16 [==============================] - 0s 8ms/step - loss: 0.6062 - accuracy: 0.6864 - val_loss: 0.5989 - val_accuracy: 0.6911\n",
            "Epoch 5/50\n",
            "16/16 [==============================] - 0s 8ms/step - loss: 0.6014 - accuracy: 0.6864 - val_loss: 0.5952 - val_accuracy: 0.6911\n",
            "Epoch 6/50\n",
            "16/16 [==============================] - 0s 9ms/step - loss: 0.5982 - accuracy: 0.6864 - val_loss: 0.5927 - val_accuracy: 0.6911\n",
            "Epoch 7/50\n",
            "16/16 [==============================] - 0s 8ms/step - loss: 0.5957 - accuracy: 0.6864 - val_loss: 0.5899 - val_accuracy: 0.6911\n",
            "Epoch 8/50\n",
            "16/16 [==============================] - 0s 8ms/step - loss: 0.5933 - accuracy: 0.6864 - val_loss: 0.5873 - val_accuracy: 0.6911\n",
            "Epoch 9/50\n",
            "16/16 [==============================] - 0s 8ms/step - loss: 0.5910 - accuracy: 0.6864 - val_loss: 0.5849 - val_accuracy: 0.6911\n",
            "Epoch 10/50\n",
            "16/16 [==============================] - 0s 8ms/step - loss: 0.5875 - accuracy: 0.6864 - val_loss: 0.5807 - val_accuracy: 0.6911\n",
            "Epoch 11/50\n",
            "16/16 [==============================] - 0s 8ms/step - loss: 0.5836 - accuracy: 0.6864 - val_loss: 0.5761 - val_accuracy: 0.6911\n",
            "Epoch 12/50\n",
            "16/16 [==============================] - 0s 7ms/step - loss: 0.5790 - accuracy: 0.6864 - val_loss: 0.5721 - val_accuracy: 0.6911\n",
            "Epoch 13/50\n",
            "16/16 [==============================] - 0s 8ms/step - loss: 0.5749 - accuracy: 0.6864 - val_loss: 0.5665 - val_accuracy: 0.6911\n",
            "Epoch 14/50\n",
            "16/16 [==============================] - 0s 8ms/step - loss: 0.5689 - accuracy: 0.6864 - val_loss: 0.5614 - val_accuracy: 0.6911\n",
            "Epoch 15/50\n",
            "16/16 [==============================] - 0s 9ms/step - loss: 0.5645 - accuracy: 0.6864 - val_loss: 0.5568 - val_accuracy: 0.6911\n",
            "Epoch 16/50\n",
            "16/16 [==============================] - 0s 9ms/step - loss: 0.5605 - accuracy: 0.6864 - val_loss: 0.5527 - val_accuracy: 0.6911\n",
            "Epoch 17/50\n",
            "16/16 [==============================] - 0s 6ms/step - loss: 0.5567 - accuracy: 0.6884 - val_loss: 0.5483 - val_accuracy: 0.6992\n",
            "Epoch 18/50\n",
            "16/16 [==============================] - 0s 5ms/step - loss: 0.5532 - accuracy: 0.6925 - val_loss: 0.5450 - val_accuracy: 0.6992\n",
            "Epoch 19/50\n",
            "16/16 [==============================] - 0s 5ms/step - loss: 0.5499 - accuracy: 0.6904 - val_loss: 0.5413 - val_accuracy: 0.7073\n",
            "Epoch 20/50\n",
            "16/16 [==============================] - 0s 6ms/step - loss: 0.5469 - accuracy: 0.7128 - val_loss: 0.5385 - val_accuracy: 0.7154\n",
            "Epoch 21/50\n",
            "16/16 [==============================] - 0s 5ms/step - loss: 0.5439 - accuracy: 0.7210 - val_loss: 0.5364 - val_accuracy: 0.7154\n",
            "Epoch 22/50\n",
            "16/16 [==============================] - 0s 6ms/step - loss: 0.5428 - accuracy: 0.7189 - val_loss: 0.5344 - val_accuracy: 0.7154\n",
            "Epoch 23/50\n",
            "16/16 [==============================] - 0s 6ms/step - loss: 0.5392 - accuracy: 0.7291 - val_loss: 0.5326 - val_accuracy: 0.7398\n",
            "Epoch 24/50\n",
            "16/16 [==============================] - 0s 6ms/step - loss: 0.5372 - accuracy: 0.7393 - val_loss: 0.5313 - val_accuracy: 0.7480\n",
            "Epoch 25/50\n",
            "16/16 [==============================] - 0s 6ms/step - loss: 0.5350 - accuracy: 0.7454 - val_loss: 0.5298 - val_accuracy: 0.7642\n",
            "Epoch 26/50\n",
            "16/16 [==============================] - 0s 7ms/step - loss: 0.5336 - accuracy: 0.7556 - val_loss: 0.5291 - val_accuracy: 0.7886\n",
            "Epoch 27/50\n",
            "16/16 [==============================] - 0s 6ms/step - loss: 0.5320 - accuracy: 0.7678 - val_loss: 0.5283 - val_accuracy: 0.7724\n",
            "Epoch 28/50\n",
            "16/16 [==============================] - 0s 5ms/step - loss: 0.5302 - accuracy: 0.7739 - val_loss: 0.5285 - val_accuracy: 0.7886\n",
            "Epoch 29/50\n",
            "16/16 [==============================] - 0s 5ms/step - loss: 0.5291 - accuracy: 0.7760 - val_loss: 0.5277 - val_accuracy: 0.7886\n",
            "Epoch 30/50\n",
            "16/16 [==============================] - 0s 6ms/step - loss: 0.5269 - accuracy: 0.7760 - val_loss: 0.5271 - val_accuracy: 0.7967\n",
            "Epoch 31/50\n",
            "16/16 [==============================] - 0s 6ms/step - loss: 0.5253 - accuracy: 0.7862 - val_loss: 0.5266 - val_accuracy: 0.7967\n",
            "Epoch 32/50\n",
            "16/16 [==============================] - 0s 6ms/step - loss: 0.5243 - accuracy: 0.7841 - val_loss: 0.5252 - val_accuracy: 0.8049\n",
            "Epoch 33/50\n",
            "16/16 [==============================] - 0s 5ms/step - loss: 0.5226 - accuracy: 0.7841 - val_loss: 0.5250 - val_accuracy: 0.8130\n",
            "Epoch 34/50\n",
            "16/16 [==============================] - 0s 6ms/step - loss: 0.5215 - accuracy: 0.8004 - val_loss: 0.5247 - val_accuracy: 0.8130\n",
            "Epoch 35/50\n",
            "16/16 [==============================] - 0s 6ms/step - loss: 0.5201 - accuracy: 0.8045 - val_loss: 0.5239 - val_accuracy: 0.8130\n",
            "Epoch 36/50\n",
            "16/16 [==============================] - 0s 6ms/step - loss: 0.5195 - accuracy: 0.8045 - val_loss: 0.5232 - val_accuracy: 0.8130\n",
            "Epoch 37/50\n",
            "16/16 [==============================] - 0s 7ms/step - loss: 0.5177 - accuracy: 0.8065 - val_loss: 0.5225 - val_accuracy: 0.8130\n",
            "Epoch 38/50\n",
            "16/16 [==============================] - 0s 5ms/step - loss: 0.5169 - accuracy: 0.8086 - val_loss: 0.5217 - val_accuracy: 0.8130\n",
            "Epoch 39/50\n",
            "16/16 [==============================] - 0s 5ms/step - loss: 0.5156 - accuracy: 0.8086 - val_loss: 0.5213 - val_accuracy: 0.8130\n",
            "Epoch 40/50\n",
            "16/16 [==============================] - 0s 6ms/step - loss: 0.5147 - accuracy: 0.8086 - val_loss: 0.5211 - val_accuracy: 0.8130\n",
            "Epoch 41/50\n",
            "16/16 [==============================] - 0s 5ms/step - loss: 0.5141 - accuracy: 0.8086 - val_loss: 0.5207 - val_accuracy: 0.8130\n",
            "Epoch 42/50\n",
            "16/16 [==============================] - 0s 6ms/step - loss: 0.5123 - accuracy: 0.8086 - val_loss: 0.5203 - val_accuracy: 0.8130\n",
            "Epoch 43/50\n",
            "16/16 [==============================] - 0s 5ms/step - loss: 0.5119 - accuracy: 0.8086 - val_loss: 0.5198 - val_accuracy: 0.8130\n",
            "Epoch 44/50\n",
            "16/16 [==============================] - 0s 6ms/step - loss: 0.5130 - accuracy: 0.8086 - val_loss: 0.5205 - val_accuracy: 0.8130\n",
            "Epoch 45/50\n",
            "16/16 [==============================] - 0s 5ms/step - loss: 0.5107 - accuracy: 0.8086 - val_loss: 0.5194 - val_accuracy: 0.8130\n",
            "Epoch 46/50\n",
            "16/16 [==============================] - 0s 6ms/step - loss: 0.5091 - accuracy: 0.8086 - val_loss: 0.5187 - val_accuracy: 0.8130\n",
            "Epoch 47/50\n",
            "16/16 [==============================] - 0s 6ms/step - loss: 0.5084 - accuracy: 0.8106 - val_loss: 0.5184 - val_accuracy: 0.8130\n",
            "Epoch 48/50\n",
            "16/16 [==============================] - 0s 6ms/step - loss: 0.5086 - accuracy: 0.8106 - val_loss: 0.5185 - val_accuracy: 0.8130\n",
            "Epoch 49/50\n",
            "16/16 [==============================] - 0s 6ms/step - loss: 0.5067 - accuracy: 0.8106 - val_loss: 0.5180 - val_accuracy: 0.8130\n",
            "Epoch 50/50\n",
            "16/16 [==============================] - 0s 6ms/step - loss: 0.5056 - accuracy: 0.8106 - val_loss: 0.5175 - val_accuracy: 0.8130\n"
          ]
        }
      ]
    },
    {
      "cell_type": "markdown",
      "metadata": {
        "id": "hBZ_3aumglN9"
      },
      "source": [
        "## 8. Evaluating model performance on validation set"
      ]
    },
    {
      "cell_type": "code",
      "source": [
        "# Binary classification case\n",
        "predicted_classes = (predictions > 0.5).astype(\"int32\")"
      ],
      "metadata": {
        "id": "w__028FVVH3q"
      },
      "execution_count": 77,
      "outputs": []
    },
    {
      "cell_type": "code",
      "metadata": {
        "id": "jMapdscmglOD",
        "outputId": "3201941a-bee7-4056-9ccf-3c82a3e23185",
        "colab": {
          "base_uri": "https://localhost:8080/"
        }
      },
      "source": [
        "# calculating the accuracy on validation set\n",
        "accuracy_score(y_test, predicted_classes)"
      ],
      "execution_count": 78,
      "outputs": [
        {
          "output_type": "execute_result",
          "data": {
            "text/plain": [
              "0.7886178861788617"
            ]
          },
          "metadata": {},
          "execution_count": 78
        }
      ]
    },
    {
      "cell_type": "markdown",
      "metadata": {
        "id": "rLvGzvLcglOH"
      },
      "source": [
        "###9. Visualizing the model performance"
      ]
    },
    {
      "cell_type": "code",
      "metadata": {
        "id": "68APv0UuglOI",
        "outputId": "4cfef564-7520-414e-bb09-0388777a2a9a",
        "colab": {
          "base_uri": "https://localhost:8080/",
          "height": 472
        }
      },
      "source": [
        "# summarize history for loss\n",
        "plt.plot(model_history.history['loss'])\n",
        "plt.plot(model_history.history['val_loss'])\n",
        "plt.title('model loss')\n",
        "plt.ylabel('loss')\n",
        "plt.xlabel('epoch')\n",
        "plt.legend(['train', 'validation'], loc='upper left')\n",
        "plt.show()"
      ],
      "execution_count": 79,
      "outputs": [
        {
          "output_type": "display_data",
          "data": {
            "text/plain": [
              "<Figure size 640x480 with 1 Axes>"
            ],
            "image/png": "[encoded data removed]"
          },
          "metadata": {}
        }
      ]
    },
    {
      "cell_type": "code",
      "metadata": {
        "id": "AiKe0wBbglOM",
        "outputId": "2162cff6-fb2c-4f70-9365-bc9409ada4a1",
        "colab": {
          "base_uri": "https://localhost:8080/",
          "height": 472
        }
      },
      "source": [
        "# Summarize history for accuracy\n",
        "plt.plot(model_history.history['accuracy'])\n",
        "plt.plot(model_history.history['val_accuracy'])\n",
        "plt.title('Model accuracy')\n",
        "plt.ylabel('Accuracy')\n",
        "plt.xlabel('Epoch')\n",
        "plt.legend(['Train', 'Validation'], loc='upper left')\n",
        "plt.show()"
      ],
      "execution_count": 80,
      "outputs": [
        {
          "output_type": "display_data",
          "data": {
            "text/plain": [
              "<Figure size 640x480 with 1 Axes>"
            ],
            "image/png": "[encoded data removed]"
          },
          "metadata": {}
        }
      ]
    },
    {
      "cell_type": "markdown",
      "source": [
        "##In this Project we have built a Deep Learning Model to predict Customer Loan Approval"
      ],
      "metadata": {
        "id": "Spc0i6QuUnTf"
      }
    }
  ]
}